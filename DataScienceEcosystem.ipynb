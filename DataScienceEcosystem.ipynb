{
 "cells": [
  {
   "cell_type": "markdown",
   "id": "80599fdd-0b95-4a33-9270-bb726b2d35ca",
   "metadata": {},
   "source": [
    "# Data Science Tools and Ecosystem"
   ]
  },
  {
   "cell_type": "markdown",
   "id": "4a89c4c2-9be3-4ca2-af82-24245c2356ea",
   "metadata": {},
   "source": [
    "## In this notebook, Data Science Tools and Ecosystem are summarized."
   ]
  },
  {
   "cell_type": "markdown",
   "id": "0d46e357-3835-4362-a9ba-11d4c1526bde",
   "metadata": {},
   "source": [
    "### Some of the popular languages that Data Scientists use are:\n",
    "1. Python\n",
    "2. SQL\n",
    "3. R\n",
    "4. Julia\n",
    "5. JavaScript"
   ]
  },
  {
   "cell_type": "markdown",
   "id": "95b7df6a-c946-4d09-9ecc-159a04124250",
   "metadata": {},
   "source": [
    "### Some of the commonly used libraries used by Data Scientists include:\n",
    "1. TensorFlow\n",
    "2. NumPy\n",
    "3. Pandas\n",
    "4. Matplotlib\n",
    "5. PyTorch"
   ]
  },
  {
   "cell_type": "markdown",
   "id": "26052ea1-87bb-42c1-96d8-73a28f058f13",
   "metadata": {},
   "source": [
    "| Data Science Tools |\n",
    "|--------------------|\n",
    "|Jupyter Notebook|\n",
    "|RStudio|\n",
    "|Apache Spark|"
   ]
  },
  {
   "cell_type": "markdown",
   "id": "eb7e9455-e6db-4108-875e-c680ed38ddec",
   "metadata": {},
   "source": [
    "### Below are a few examples of evaluating arithmetic expressions in Python"
   ]
  },
  {
   "cell_type": "code",
   "execution_count": 2,
   "id": "9979dc11-bd86-4ca2-ac52-efa02b84ae37",
   "metadata": {},
   "outputs": [
    {
     "data": {
      "text/plain": [
       "17"
      ]
     },
     "execution_count": 2,
     "metadata": {},
     "output_type": "execute_result"
    }
   ],
   "source": [
    " # This a simple arithmetic expression to multiply then add integers\n",
    "(3*4)+5"
   ]
  },
  {
   "cell_type": "code",
   "execution_count": 3,
   "id": "cd54ec9f-841d-4b52-b921-975797a66a28",
   "metadata": {},
   "outputs": [
    {
     "data": {
      "text/plain": [
       "3.3333333333333335"
      ]
     },
     "execution_count": 3,
     "metadata": {},
     "output_type": "execute_result"
    }
   ],
   "source": [
    " # This will convert 200 minutes to hours by diving by 60\n",
    "200/60"
   ]
  },
  {
   "cell_type": "markdown",
   "id": "a46a43a6-a3cf-4b6e-af42-15956aec606a",
   "metadata": {},
   "source": [
    "**Objectives:**\n",
    "- Python\n",
    "- SQL\n",
    "- R\n",
    "- Julia\n",
    "- JavaScript"
   ]
  },
  {
   "cell_type": "markdown",
   "id": "cf474baf-6a67-4063-8d01-64aeb15d0b42",
   "metadata": {},
   "source": [
    "## Author\n",
    "__Aluri Pushpa Raju__"
   ]
  },
  {
   "cell_type": "code",
   "execution_count": null,
   "id": "df4905a4-b529-43f3-b751-e4b64374a93c",
   "metadata": {},
   "outputs": [],
   "source": []
  }
 ],
 "metadata": {
  "kernelspec": {
   "display_name": "Python 3 (ipykernel)",
   "language": "python",
   "name": "python3"
  },
  "language_info": {
   "codemirror_mode": {
    "name": "ipython",
    "version": 3
   },
   "file_extension": ".py",
   "mimetype": "text/x-python",
   "name": "python",
   "nbconvert_exporter": "python",
   "pygments_lexer": "ipython3",
   "version": "3.11.7"
  }
 },
 "nbformat": 4,
 "nbformat_minor": 5
}
